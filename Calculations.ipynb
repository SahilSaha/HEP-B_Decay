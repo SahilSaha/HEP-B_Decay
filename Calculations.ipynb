{
 "cells": [
  {
   "cell_type": "code",
   "execution_count": 1,
   "id": "6052f173",
   "metadata": {},
   "outputs": [
    {
     "name": "stdout",
     "output_type": "stream",
     "text": [
      "3.0192597912996706 2.26008020870033 2.255766558148012 2.2557665581480117\n"
     ]
    }
   ],
   "source": [
    "import numpy as np\n",
    "\n",
    "mB = 5.27934\n",
    "mD = 2.00685\n",
    "mPi = 0.13957\n",
    "\n",
    "ED = (mB**2+mD**2-mPi**2)/(2*mB)\n",
    "EPi = (mB**2+-mD**2+mPi**2)/(2*mB)\n",
    "pD = np.sqrt(ED**2-mD**2)\n",
    "pPi = np.sqrt(EPi**2-mPi**2)\n",
    "\n",
    "print(ED,EPi,pD,pPi)"
   ]
  },
  {
   "cell_type": "code",
   "execution_count": null,
   "id": "31250b8b",
   "metadata": {},
   "outputs": [],
   "source": []
  }
 ],
 "metadata": {
  "kernelspec": {
   "display_name": "Python 3 (ipykernel)",
   "language": "python",
   "name": "python3"
  },
  "language_info": {
   "codemirror_mode": {
    "name": "ipython",
    "version": 3
   },
   "file_extension": ".py",
   "mimetype": "text/x-python",
   "name": "python",
   "nbconvert_exporter": "python",
   "pygments_lexer": "ipython3",
   "version": "3.9.7"
  }
 },
 "nbformat": 4,
 "nbformat_minor": 5
}
